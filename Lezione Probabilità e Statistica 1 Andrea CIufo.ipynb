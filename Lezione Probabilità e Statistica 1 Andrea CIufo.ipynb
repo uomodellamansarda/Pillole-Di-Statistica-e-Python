{
 "cells": [
  {
   "cell_type": "markdown",
   "metadata": {},
   "source": [
    "Questo piccolo esempio è un allegato alla primo capitolo delle pillole di statistica e python che sto elaborando. \n"
   ]
  },
  {
   "cell_type": "code",
   "execution_count": 1,
   "metadata": {},
   "outputs": [],
   "source": [
    "#Importiamo i moduli necessari sia per generare il numero pseudo-casuale\n",
    "#sia per rappresentare graficamente il nostro risultato\n",
    "import pandas as pd \n",
    "#Numpy è il modulo utilizzato per il calcolo scientifico\n",
    "import numpy as np\n",
    "#Matplot è il modulo utilizzato per la visualizzazione grafica \n",
    "import matplotlib.pyplot as plt\n"
   ]
  },
  {
   "cell_type": "code",
   "execution_count": 2,
   "metadata": {},
   "outputs": [
    {
     "name": "stdout",
     "output_type": "stream",
     "text": [
      "[2 6 5 1 2 4 5 2 6 1]\n"
     ]
    }
   ],
   "source": [
    "#Il seed serve per generare un numero pseudo-casuale\n",
    "#In questo modo la generazione di numeri è\n",
    "#Riproducibile\n",
    "#e controllata\n",
    "seed=10\n",
    "np.random.seed(10)\n",
    "#Array di numeri casuali \n",
    "#Simula il nostro dado\n",
    "#Va da 1-6, il metodo RandomState.randint \n",
    "#si caratterizza per il limite inferiore inclusivo ed il limite superiore esclusivo\n",
    "random_array=np.random.randint(1,7, size=10)\n",
    "print(random_array)"
   ]
  },
  {
   "cell_type": "code",
   "execution_count": 3,
   "metadata": {},
   "outputs": [
    {
     "name": "stdout",
     "output_type": "stream",
     "text": [
      "Frequenza assoluta dei valori\n",
      "{1: 2, 2: 3, 4: 1, 5: 2, 6: 2}\n"
     ]
    }
   ],
   "source": [
    "unique, counts = np.unique(random_array, return_counts=True)\n",
    "#Costruiamo un dict\n",
    "#Un dict è un data type di python\n",
    "#noto come \"associative array\"\n",
    "#Si compone di due parti \"Keys\"-\"Values\"\n",
    "#Nel nostro caso le keys rappresentano tutti i lati del dado\n",
    "#I Values rappresentano il numero di occorrenze di ogni faccia \n",
    "#Nei 10 lanci\n",
    "\n",
    "conteggio=dict(zip(unique, counts))\n",
    "print('Frequenza assoluta dei valori')\n",
    "print(conteggio)"
   ]
  },
  {
   "cell_type": "code",
   "execution_count": 4,
   "metadata": {},
   "outputs": [
    {
     "data": {
      "text/plain": [
       "Text(0.5, 1.0, 'Frequenza Assoluta su 10 Lanci')"
      ]
     },
     "execution_count": 4,
     "metadata": {},
     "output_type": "execute_result"
    },
    {
     "data": {
      "image/png": "[encoded data removed]",
      "text/plain": [
       "<Figure size 432x288 with 1 Axes>"
      ]
     },
     "metadata": {
      "needs_background": "light"
     },
     "output_type": "display_data"
    }
   ],
   "source": [
    "#Sfruttiamo le proprietà dei dictionaries \n",
    "#per rappresentare con un grafico a barre i nostri risultati\n",
    "plt.bar(conteggio.keys(),conteggio.values())\n",
    "plt.title(\"Frequenza Assoluta su 10 Lanci\")"
   ]
  },
  {
   "cell_type": "code",
   "execution_count": null,
   "metadata": {},
   "outputs": [],
   "source": []
  }
 ],
 "metadata": {
  "kernelspec": {
   "display_name": "Python 3",
   "language": "python",
   "name": "python3"
  },
  "language_info": {
   "codemirror_mode": {
    "name": "ipython",
    "version": 3
   },
   "file_extension": ".py",
   "mimetype": "text/x-python",
   "name": "python",
   "nbconvert_exporter": "python",
   "pygments_lexer": "ipython3",
   "version": "3.6.4"
  }
 },
 "nbformat": 4,
 "nbformat_minor": 2
}
